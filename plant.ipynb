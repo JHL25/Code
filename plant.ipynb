{
 "cells": [
  {
   "cell_type": "markdown",
   "metadata": {},
   "source": [
    "먼저 이미지를 배열화 시켜주어야 한다.\n",
    "\n",
    "그리고 여기 이미지에서 훈련 데이터, 테스트 데이터(사실상 검증 데이터)로 나눠준다.\n",
    "\n",
    "이후 numpy 형태로 저장."
   ]
  },
  {
   "cell_type": "code",
   "execution_count": 17,
   "metadata": {},
   "outputs": [
    {
     "name": "stdout",
     "output_type": "stream",
     "text": [
      "0  :  ./ipynb/data3/train/0\\Tomato_healthy (1).JPG\n",
      "0  :  ./ipynb/data3/train/0\\Tomato_healthy (1269).JPG\n",
      "0  :  ./ipynb/data3/train/0\\Tomato_healthy (1539).JPG\n",
      "0  :  ./ipynb/data3/train/0\\Tomato_healthy (377).JPG\n",
      "0  :  ./ipynb/data3/train/0\\Tomato_healthy (647).JPG\n",
      "0  :  ./ipynb/data3/train/0\\Tomato_healthy (917).JPG\n",
      "1  :  ./ipynb/data3/train/1\\Tomato_Septoria (1).JPG\n",
      "1  :  ./ipynb/data3/train/1\\Tomato_Septoria (397).JPG\n",
      "1  :  ./ipynb/data3/train/1\\Tomato_Septoria (667).JPG\n",
      "1  :  ./ipynb/data3/train/1\\Tomato_Septoria (937).JPG\n",
      "1  :  ./ipynb/data3/train/1\\Tomato_Spider (1206).JPG\n",
      "1  :  ./ipynb/data3/train/1\\Tomato_Spider (1477).JPG\n",
      "1  :  ./ipynb/data3/train/1\\Tomato_Spider (1747).JPG\n",
      "1  :  ./ipynb/data3/train/1\\Tomato_Spider (2016).JPG\n",
      "1  :  ./ipynb/data3/train/1\\Tomato_Spider (2287).JPG\n",
      "1  :  ./ipynb/data3/train/1\\Tomato_Spider (2557).JPG\n"
     ]
    }
   ],
   "source": [
    "from PIL import Image\n",
    "import os, glob, sys, numpy as np\n",
    "from sklearn.model_selection import train_test_split\n",
    "from keras.utils import np_utils\n",
    "\n",
    "img_dir = './ipynb/data3/train'\n",
    "categories = ['0', '1']\n",
    "np_classes = len(categories)\n",
    "\n",
    "image_w = 128\n",
    "image_h = 128\n",
    "\n",
    "\n",
    "pixel = image_h * image_w * 3\n",
    "\n",
    "X = []\n",
    "y = []\n",
    "\n",
    "for idx, cat in enumerate(categories):\n",
    "    img_dir_detail = img_dir + \"/\" + cat\n",
    "    files = glob.glob(img_dir_detail+\"/*.jpg\")\n",
    "\n",
    "\n",
    "    for i, f in enumerate(files):\n",
    "        try:\n",
    "            img = Image.open(f)\n",
    "            img = img.convert(\"RGB\")\n",
    "            img = img.resize((image_w, image_h))\n",
    "            data = np.asarray(img)\n",
    "            #Y는 0 아니면 1이니까 idx값으로 넣는다.\n",
    "            X.append(data)\n",
    "            y.append(idx)\n",
    "            if i % 300 == 0:\n",
    "                print(cat, \" : \", f)\n",
    "        except:\n",
    "            print(cat, str(i)+\" 번째에서 에러 \")\n",
    "X = np.array(X)\n",
    "Y = np.array(y)\n",
    "\n",
    "\n",
    "X_train, X_test, Y_train, Y_test = train_test_split(X, Y, test_size=0.1)\n",
    "\n",
    "xy = (X_train, X_test, Y_train, Y_test)\n",
    "np.save(\"./numpy_data/image_data.npy\", xy)"
   ]
  },
  {
   "cell_type": "markdown",
   "metadata": {},
   "source": [
    "이제 훈련을 시작한다. 저장한 numpy 값을 가지고 와서 컨볼루션 망을 구축한다."
   ]
  },
  {
   "cell_type": "code",
   "execution_count": 18,
   "metadata": {},
   "outputs": [
    {
     "name": "stdout",
     "output_type": "stream",
     "text": [
      "(3965, 128, 128, 3)\n",
      "3965\n",
      "[1429 2536]\n",
      "[162 279]\n"
     ]
    }
   ],
   "source": [
    "from keras.models import Sequential\n",
    "from keras.layers import Conv2D, MaxPooling2D, Dense, Flatten, Dropout\n",
    "from keras.callbacks import EarlyStopping, ModelCheckpoint\n",
    "import matplotlib.pyplot as plt\n",
    "import tensorflow.python.keras.backend as K\n",
    "\n",
    "X_train, X_test, y_train, y_test = np.load('./numpy_data/image_data.npy', allow_pickle=True)\n",
    "print(X_train.shape)\n",
    "print(X_train.shape[0])\n",
    "print(np.bincount(y_train))\n",
    "print(np.bincount(y_test))"
   ]
  },
  {
   "cell_type": "code",
   "execution_count": null,
   "metadata": {},
   "outputs": [],
   "source": [
    "image_w = 128\n",
    "image_h = 128\n",
    "X_train = X_train.astype('float32') / 255\n",
    "X_test = X_test.astype('float32') / 255\n",
    "\n",
    "import tensorflow.compat.v1 as tf\n",
    "\n",
    "with tf.device('/device:GPU:0'):\n",
    "    model = Sequential()\n",
    "    model.add(Conv2D(32, (3,3), padding=\"same\", input_shape=X_train.shape[1:], activation=\"relu\"))\n",
    "    model.add(MaxPooling2D(pool_size=(2,2)))\n",
    "    model.add(Conv2D(32, (3,3), padding=\"same\", activation=\"relu\"))\n",
    "    model.add(MaxPooling2D(pool_size=(2,2)))\n",
    "\n",
    "    model.add(Conv2D(64, (3,3), padding=\"same\", activation=\"relu\"))\n",
    "    model.add(MaxPooling2D(pool_size=(2,2)))\n",
    "    model.add(Dropout(0.25))\n",
    "\n",
    "    model.add(Conv2D(64, (3,3), padding=\"same\", activation=\"relu\"))\n",
    "    model.add(MaxPooling2D(pool_size=(2,2)))\n",
    "    model.add(Dropout(0.25))\n",
    "\n",
    "    model.add(Flatten())\n",
    "    model.add(Dense(256, activation=\"relu\"))\n",
    "    model.add(Dropout(0.5))\n",
    "    model.add(Dense(1, activation=\"sigmoid\"))\n",
    "    \n",
    "    model.compile(loss='binary_crossentropy', optimizer='adam', metrics=['accuracy'])\n",
    "    model_dir = './model'\n",
    "    \n",
    "    if not os.path.exists(model_dir):\n",
    "        os.mkdir(model_dir)\n",
    "    model_path = model_dir + \"/plant.model\"\n",
    "    \n",
    "    checkpoint = ModelCheckpoint(filepath=model_path, monitor='val_loss', verbose=1, save_best_only=True)\n",
    "    early_stopping = EarlyStopping(monitor='val_loss', patience=7)\n"
   ]
  },
  {
   "cell_type": "code",
   "execution_count": 20,
   "metadata": {
    "scrolled": false
   },
   "outputs": [
    {
     "name": "stdout",
     "output_type": "stream",
     "text": [
      "Model: \"sequential_2\"\n",
      "_________________________________________________________________\n",
      "Layer (type)                 Output Shape              Param #   \n",
      "=================================================================\n",
      "conv2d_8 (Conv2D)            (None, 128, 128, 32)      896       \n",
      "_________________________________________________________________\n",
      "max_pooling2d_8 (MaxPooling2 (None, 64, 64, 32)        0         \n",
      "_________________________________________________________________\n",
      "conv2d_9 (Conv2D)            (None, 64, 64, 32)        9248      \n",
      "_________________________________________________________________\n",
      "max_pooling2d_9 (MaxPooling2 (None, 32, 32, 32)        0         \n",
      "_________________________________________________________________\n",
      "conv2d_10 (Conv2D)           (None, 32, 32, 64)        18496     \n",
      "_________________________________________________________________\n",
      "max_pooling2d_10 (MaxPooling (None, 16, 16, 64)        0         \n",
      "_________________________________________________________________\n",
      "dropout_6 (Dropout)          (None, 16, 16, 64)        0         \n",
      "_________________________________________________________________\n",
      "conv2d_11 (Conv2D)           (None, 16, 16, 64)        36928     \n",
      "_________________________________________________________________\n",
      "max_pooling2d_11 (MaxPooling (None, 8, 8, 64)          0         \n",
      "_________________________________________________________________\n",
      "dropout_7 (Dropout)          (None, 8, 8, 64)          0         \n",
      "_________________________________________________________________\n",
      "flatten_2 (Flatten)          (None, 4096)              0         \n",
      "_________________________________________________________________\n",
      "dense_4 (Dense)              (None, 256)               1048832   \n",
      "_________________________________________________________________\n",
      "dropout_8 (Dropout)          (None, 256)               0         \n",
      "_________________________________________________________________\n",
      "dense_5 (Dense)              (None, 1)                 257       \n",
      "=================================================================\n",
      "Total params: 1,114,657\n",
      "Trainable params: 1,114,657\n",
      "Non-trainable params: 0\n",
      "_________________________________________________________________\n"
     ]
    }
   ],
   "source": [
    "model.summary()"
   ]
  },
  {
   "cell_type": "code",
   "execution_count": null,
   "metadata": {},
   "outputs": [
    {
     "name": "stdout",
     "output_type": "stream",
     "text": [
      "Epoch 1/100\n",
      "53/53 [==============================] - 81s 1s/step - loss: 0.6708 - accuracy: 0.6278 - val_loss: 0.5132 - val_accuracy: 0.6924\n",
      "\n",
      "Epoch 00001: val_loss improved from inf to 0.51317, saving model to ./model\\plant.model\n",
      "INFO:tensorflow:Assets written to: ./model\\plant.model\\assets\n",
      "Epoch 2/100\n",
      "53/53 [==============================] - 70s 1s/step - loss: 0.4069 - accuracy: 0.7992 - val_loss: 0.2906 - val_accuracy: 0.8555\n",
      "\n",
      "Epoch 00002: val_loss improved from 0.51317 to 0.29061, saving model to ./model\\plant.model\n",
      "INFO:tensorflow:Assets written to: ./model\\plant.model\\assets\n",
      "Epoch 3/100\n",
      "53/53 [==============================] - 72s 1s/step - loss: 0.2444 - accuracy: 0.9009 - val_loss: 0.1344 - val_accuracy: 0.9630\n",
      "\n",
      "Epoch 00003: val_loss improved from 0.29061 to 0.13437, saving model to ./model\\plant.model\n",
      "INFO:tensorflow:Assets written to: ./model\\plant.model\\assets\n",
      "Epoch 4/100\n",
      "53/53 [==============================] - 71s 1s/step - loss: 0.1411 - accuracy: 0.9543 - val_loss: 0.0935 - val_accuracy: 0.9714\n",
      "\n",
      "Epoch 00004: val_loss improved from 0.13437 to 0.09348, saving model to ./model\\plant.model\n",
      "INFO:tensorflow:Assets written to: ./model\\plant.model\\assets\n",
      "Epoch 5/100\n",
      "53/53 [==============================] - 70s 1s/step - loss: 0.1652 - accuracy: 0.9432 - val_loss: 0.1669 - val_accuracy: 0.9395\n",
      "\n",
      "Epoch 00005: val_loss did not improve from 0.09348\n",
      "Epoch 6/100\n",
      "53/53 [==============================] - 71s 1s/step - loss: 0.1610 - accuracy: 0.9443 - val_loss: 0.0483 - val_accuracy: 0.9815\n",
      "\n",
      "Epoch 00006: val_loss improved from 0.09348 to 0.04828, saving model to ./model\\plant.model\n",
      "INFO:tensorflow:Assets written to: ./model\\plant.model\\assets\n",
      "Epoch 7/100\n",
      "53/53 [==============================] - 71s 1s/step - loss: 0.0822 - accuracy: 0.9742 - val_loss: 0.0617 - val_accuracy: 0.9798\n",
      "\n",
      "Epoch 00007: val_loss did not improve from 0.04828\n",
      "Epoch 8/100\n",
      "53/53 [==============================] - 40s 742ms/step - loss: 0.0974 - accuracy: 0.9702 - val_loss: 0.0772 - val_accuracy: 0.9681\n",
      "\n",
      "Epoch 00008: val_loss did not improve from 0.04828\n",
      "Epoch 9/100\n",
      "53/53 [==============================] - 40s 752ms/step - loss: 0.0635 - accuracy: 0.9829 - val_loss: 0.0305 - val_accuracy: 0.9849\n",
      "\n",
      "Epoch 00009: val_loss improved from 0.04828 to 0.03053, saving model to ./model\\plant.model\n",
      "INFO:tensorflow:Assets written to: ./model\\plant.model\\assets\n",
      "Epoch 10/100\n",
      "53/53 [==============================] - 38s 723ms/step - loss: 0.0369 - accuracy: 0.9891 - val_loss: 0.0430 - val_accuracy: 0.9866\n",
      "\n",
      "Epoch 00010: val_loss did not improve from 0.03053\n",
      "Epoch 11/100\n",
      "53/53 [==============================] - 38s 718ms/step - loss: 0.0467 - accuracy: 0.9864 - val_loss: 0.0452 - val_accuracy: 0.9782\n",
      "\n",
      "Epoch 00011: val_loss did not improve from 0.03053\n",
      "Epoch 12/100\n",
      "53/53 [==============================] - 36s 688ms/step - loss: 0.0456 - accuracy: 0.9863 - val_loss: 0.0214 - val_accuracy: 0.9899\n",
      "\n",
      "Epoch 00012: val_loss improved from 0.03053 to 0.02143, saving model to ./model\\plant.model\n",
      "INFO:tensorflow:Assets written to: ./model\\plant.model\\assets\n",
      "Epoch 13/100\n",
      "53/53 [==============================] - 37s 694ms/step - loss: 0.0403 - accuracy: 0.9856 - val_loss: 0.0221 - val_accuracy: 0.9916\n",
      "\n",
      "Epoch 00013: val_loss did not improve from 0.02143\n",
      "Epoch 14/100\n",
      "53/53 [==============================] - 37s 696ms/step - loss: 0.0251 - accuracy: 0.9898 - val_loss: 0.0526 - val_accuracy: 0.9782\n",
      "\n",
      "Epoch 00014: val_loss did not improve from 0.02143\n",
      "Epoch 15/100\n",
      "53/53 [==============================] - 37s 690ms/step - loss: 0.0356 - accuracy: 0.9860 - val_loss: 0.0215 - val_accuracy: 0.9916\n",
      "\n",
      "Epoch 00015: val_loss did not improve from 0.02143\n",
      "Epoch 16/100\n",
      "53/53 [==============================] - 36s 688ms/step - loss: 0.0187 - accuracy: 0.9924 - val_loss: 0.0251 - val_accuracy: 0.9899\n",
      "\n",
      "Epoch 00016: val_loss did not improve from 0.02143\n",
      "Epoch 17/100\n",
      "53/53 [==============================] - 36s 688ms/step - loss: 0.0261 - accuracy: 0.9902 - val_loss: 0.0168 - val_accuracy: 0.9916\n",
      "\n",
      "Epoch 00017: val_loss improved from 0.02143 to 0.01684, saving model to ./model\\plant.model\n",
      "INFO:tensorflow:Assets written to: ./model\\plant.model\\assets\n",
      "Epoch 18/100\n",
      "53/53 [==============================] - 37s 692ms/step - loss: 0.0488 - accuracy: 0.9836 - val_loss: 0.0519 - val_accuracy: 0.9798\n",
      "\n",
      "Epoch 00018: val_loss did not improve from 0.01684\n",
      "Epoch 19/100\n",
      "53/53 [==============================] - 36s 687ms/step - loss: 0.0348 - accuracy: 0.9909 - val_loss: 0.0113 - val_accuracy: 0.9966\n",
      "\n",
      "Epoch 00019: val_loss improved from 0.01684 to 0.01134, saving model to ./model\\plant.model\n",
      "INFO:tensorflow:Assets written to: ./model\\plant.model\\assets\n",
      "Epoch 20/100\n",
      "53/53 [==============================] - 37s 693ms/step - loss: 0.0167 - accuracy: 0.9944 - val_loss: 0.0069 - val_accuracy: 0.9983\n",
      "\n",
      "Epoch 00020: val_loss improved from 0.01134 to 0.00686, saving model to ./model\\plant.model\n",
      "INFO:tensorflow:Assets written to: ./model\\plant.model\\assets\n",
      "Epoch 21/100\n",
      "53/53 [==============================] - 37s 697ms/step - loss: 0.0115 - accuracy: 0.9961 - val_loss: 0.0231 - val_accuracy: 0.9916\n",
      "\n",
      "Epoch 00021: val_loss did not improve from 0.00686\n",
      "Epoch 22/100\n",
      "53/53 [==============================] - 36s 685ms/step - loss: 0.0222 - accuracy: 0.9919 - val_loss: 0.0455 - val_accuracy: 0.9782\n",
      "\n",
      "Epoch 00022: val_loss did not improve from 0.00686\n",
      "Epoch 23/100\n",
      "53/53 [==============================] - 38s 714ms/step - loss: 0.0370 - accuracy: 0.9888 - val_loss: 0.0222 - val_accuracy: 0.9916\n",
      "\n",
      "Epoch 00023: val_loss did not improve from 0.00686\n",
      "Epoch 24/100\n",
      "53/53 [==============================] - 38s 715ms/step - loss: 0.0253 - accuracy: 0.9889 - val_loss: 0.0134 - val_accuracy: 0.9950\n",
      "\n",
      "Epoch 00024: val_loss did not improve from 0.00686\n",
      "Epoch 25/100\n",
      "53/53 [==============================] - 36s 684ms/step - loss: 0.0116 - accuracy: 0.9956 - val_loss: 0.0338 - val_accuracy: 0.9916\n",
      "\n",
      "Epoch 00025: val_loss did not improve from 0.00686\n",
      "Epoch 26/100\n",
      "53/53 [==============================] - 36s 689ms/step - loss: 0.0324 - accuracy: 0.9894 - val_loss: 0.0142 - val_accuracy: 0.9966\n",
      "\n",
      "Epoch 00026: val_loss did not improve from 0.00686\n",
      "Epoch 27/100\n",
      "53/53 [==============================] - 38s 714ms/step - loss: 0.0100 - accuracy: 0.9980 - val_loss: 0.0112 - val_accuracy: 0.9966\n",
      "\n",
      "Epoch 00027: val_loss did not improve from 0.00686\n",
      "Epoch 28/100\n",
      "53/53 [==============================] - 36s 688ms/step - loss: 0.0057 - accuracy: 0.9991 - val_loss: 0.0288 - val_accuracy: 0.9933\n",
      "\n",
      "Epoch 00028: val_loss did not improve from 0.00686\n",
      "Epoch 29/100\n",
      "53/53 [==============================] - 37s 693ms/step - loss: 0.0059 - accuracy: 0.9970 - val_loss: 0.0152 - val_accuracy: 0.9933\n",
      "\n",
      "Epoch 00029: val_loss did not improve from 0.00686\n",
      "Epoch 30/100\n",
      "53/53 [==============================] - 37s 695ms/step - loss: 0.0205 - accuracy: 0.9927 - val_loss: 0.0169 - val_accuracy: 0.9933\n",
      "\n",
      "Epoch 00030: val_loss did not improve from 0.00686\n",
      "Epoch 31/100\n",
      "48/53 [==========================>...] - ETA: 3s - loss: 0.0112 - accuracy: 0.9966"
     ]
    }
   ],
   "source": [
    "history = model.fit(X_train, y_train, batch_size=64, epochs=100, validation_split=0.15, callbacks=[checkpoint, early_stopping])"
   ]
  },
  {
   "cell_type": "code",
   "execution_count": 12,
   "metadata": {},
   "outputs": [
    {
     "name": "stdout",
     "output_type": "stream",
     "text": [
      "1/1 [==============================] - 0s 98ms/step - loss: 1.1628 - accuracy: 0.0000e+00\n",
      "정확도 : 0.00 \n"
     ]
    }
   ],
   "source": [
    "print(\"정확도 : %.2f \" %(model.evaluate(X_test, y_test)[1]))"
   ]
  },
  {
   "cell_type": "code",
   "execution_count": 14,
   "metadata": {},
   "outputs": [
    {
     "data": {
      "image/png": "[encoded data removed]",
      "text/plain": [
       "<Figure size 432x288 with 1 Axes>"
      ]
     },
     "metadata": {
      "needs_background": "light"
     },
     "output_type": "display_data"
    }
   ],
   "source": [
    "plt.plot(history.history['loss'])\n",
    "plt.plot(history.history['val_loss'])\n",
    "plt.plot(history.history['accuracy'])\n",
    "plt.plot(history.history['val_accuracy'])\n",
    "plt.title('model loss')\n",
    "plt.ylabel('loss')\n",
    "plt.xlabel('epoch')\n",
    "plt.legend(['loss', 'val_loss', 'acc', 'val_acc'], loc='upper left')\n",
    "plt.show()"
   ]
  },
  {
   "cell_type": "code",
   "execution_count": null,
   "metadata": {},
   "outputs": [],
   "source": []
  }
 ],
 "metadata": {
  "kernelspec": {
   "display_name": "Python 3",
   "language": "python",
   "name": "python3"
  },
  "language_info": {
   "codemirror_mode": {
    "name": "ipython",
    "version": 3
   },
   "file_extension": ".py",
   "mimetype": "text/x-python",
   "name": "python",
   "nbconvert_exporter": "python",
   "pygments_lexer": "ipython3",
   "version": "3.8.8"
  }
 },
 "nbformat": 4,
 "nbformat_minor": 2
}
